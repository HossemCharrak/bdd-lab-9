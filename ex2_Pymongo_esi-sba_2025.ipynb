{
 "cells": [
  {
   "cell_type": "markdown",
   "metadata": {},
   "source": [
    "# Ex2\n",
    "\n",
    "<table><tr>\n",
    "    <td><img src=\"image/esi-sba.png\" width=\"100\" height=\"100\"></td>\n",
    "    <td><img src=\"image/mongo.png\" width=\"100\" height=\"100\"></td>\n",
    "    </tr></table>"
   ]
  },
  {
   "cell_type": "markdown",
   "metadata": {},
   "source": [
    "### Lancer un conteneur de MONGO\n",
    "   \n",
    "! docker-compose up –d\n"
   ]
  },
  {
   "cell_type": "markdown",
   "metadata": {},
   "source": [
    "### Importation d’un fichier JSON:\n",
    "* décompresser les fichier dblp.zip\n",
    "*  docker cp dblp.json mongo-esi:/dblp.json\n",
    "* docker exec mongo-esi  mongoimport -d dblp -c publis  /dblp.json\n",
    " "
   ]
  },
  {
   "cell_type": "markdown",
   "metadata": {},
   "source": [
    "#### installer pymongo afin de se connecter au cluster mongodb\n",
    "\n",
    "! pip install pymongo"
   ]
  },
  {
   "cell_type": "code",
   "execution_count": 1,
   "metadata": {},
   "outputs": [],
   "source": [
    "from pymongo import MongoClient"
   ]
  },
  {
   "cell_type": "markdown",
   "metadata": {},
   "source": [
    "### Créer un Mongo Client afin d'exécuter nos requêtes sur MONGODB Server"
   ]
  },
  {
   "cell_type": "code",
   "execution_count": 2,
   "metadata": {},
   "outputs": [],
   "source": [
    "client = MongoClient('mongodb://127.0.0.1:27017/')"
   ]
  },
  {
   "cell_type": "markdown",
   "metadata": {},
   "source": [
    "###  Afficher les différentes  databases"
   ]
  },
  {
   "cell_type": "code",
   "execution_count": 3,
   "metadata": {},
   "outputs": [
    {
     "data": {
      "text/plain": [
       "['admin', 'api', 'config', 'db1', 'dblp', 'local']"
      ]
     },
     "execution_count": 3,
     "metadata": {},
     "output_type": "execute_result"
    }
   ],
   "source": [
    "client.list_database_names()"
   ]
  },
  {
   "cell_type": "markdown",
   "metadata": {},
   "source": [
    "### Créer une \"database variable\" pour travailler avec la BDD \"dblp\""
   ]
  },
  {
   "cell_type": "code",
   "execution_count": 4,
   "metadata": {},
   "outputs": [],
   "source": [
    "db = client[\"dblp\"]"
   ]
  },
  {
   "cell_type": "markdown",
   "metadata": {},
   "source": [
    "### Récupérer les collections de la BDD \"dblp\""
   ]
  },
  {
   "cell_type": "code",
   "execution_count": 5,
   "metadata": {},
   "outputs": [
    {
     "data": {
      "text/plain": [
       "['publis']"
      ]
     },
     "execution_count": 5,
     "metadata": {},
     "output_type": "execute_result"
    }
   ],
   "source": [
    "db.list_collection_names()"
   ]
  },
  {
   "cell_type": "markdown",
   "metadata": {},
   "source": [
    "###  afficher le #Docs dans la collection \"publis\""
   ]
  },
  {
   "cell_type": "code",
   "execution_count": 6,
   "metadata": {},
   "outputs": [
    {
     "data": {
      "text/plain": [
       "118015"
      ]
     },
     "execution_count": 6,
     "metadata": {},
     "output_type": "execute_result"
    }
   ],
   "source": [
    "db[\"publis\"].count_documents({})"
   ]
  },
  {
   "cell_type": "code",
   "execution_count": 7,
   "metadata": {},
   "outputs": [
    {
     "data": {
      "text/plain": [
       "{'_id': 'series/cogtech/Zancanaro12',\n",
       " 'type': 'Article',\n",
       " 'title': 'Shared Interfaces for Co-located Interaction.',\n",
       " 'pages': {'start': 71, 'end': 88},\n",
       " 'year': 2012,\n",
       " 'booktitle': 'Ubiquitous Display Environments',\n",
       " 'url': 'db/series/cogtech/364227662.html#Zancanaro12',\n",
       " 'authors': ['Massimo Zancanaro']}"
      ]
     },
     "execution_count": 7,
     "metadata": {},
     "output_type": "execute_result"
    }
   ],
   "source": [
    "db[\"publis\"].find_one()"
   ]
  },
  {
   "cell_type": "markdown",
   "metadata": {},
   "source": [
    "##  Visualiser les données avec compass\n",
    "### Installer compass, un logiciel pour manipuler MongoDB\n",
    "https://www.mongodb.com/try/download/compass"
   ]
  },
  {
   "cell_type": "markdown",
   "metadata": {},
   "source": [
    "### Donner le titre des publications dont le type est « Book »"
   ]
  },
  {
   "cell_type": "code",
   "execution_count": 38,
   "metadata": {},
   "outputs": [
    {
     "name": "stdout",
     "output_type": "stream",
     "text": [
      "The length of the result is : 11074\n",
      "{'title': 'Foundations of Rule Learning'}\n",
      "{'title': 'Ubiquitous Display Environments'}\n",
      "{'title': 'Language Processing with Perl and Prolog - Theories, Implementation, and Application'}\n",
      "{'title': 'SemProM - Foundations of Semantic Product Memories for the Internet of Things'}\n",
      "{'title': 'SmartKom: Foundations of Multimodal Dialogue Systems'}\n"
     ]
    }
   ],
   "source": [
    "result = list(db.publis.find(\n",
    "    { \"type\": \"Book\" },\n",
    "    { \"_id\": 0, \"title\": 1 }\n",
    "))\n",
    "print(\"The length of the result is : \" + str(len(result)))\n",
    "for i in result[:5]:\n",
    "    print(i)"
   ]
  },
  {
   "cell_type": "markdown",
   "metadata": {},
   "source": [
    "### Donner le titre des publications ayant «publisher » et « editor » renseignés\n",
    "\n"
   ]
  },
  {
   "cell_type": "code",
   "execution_count": 37,
   "metadata": {},
   "outputs": [
    {
     "name": "stdout",
     "output_type": "stream",
     "text": [
      "The length of the result is : 740\n",
      "{'title': 'Ubiquitous Display Environments'}\n",
      "{'title': 'SemProM - Foundations of Semantic Product Memories for the Internet of Things'}\n",
      "{'title': 'SmartKom: Foundations of Multimodal Dialogue Systems'}\n",
      "{'title': 'Artificial General Intelligence'}\n",
      "{'title': 'Machine Learning Techniques for Multimedia - Case Studies on Organization and Retrieval'}\n"
     ]
    }
   ],
   "source": [
    "result = list(db.publis.find(\n",
    "    { \"publisher\": { \"$exists\": True }, \"editor\": { \"$exists\": True } },\n",
    "    { \"_id\": 0, \"title\": 1 }\n",
    "))\n",
    "print(\"The length of the result is : \" + str(len(result)))\n",
    "for i in result[:5]:\n",
    "    print(i)"
   ]
  },
  {
   "cell_type": "markdown",
   "metadata": {},
   "source": [
    "### \tDonner le titre des publications qui sont publiées entre 2005 et 2007."
   ]
  },
  {
   "cell_type": "code",
   "execution_count": 36,
   "metadata": {},
   "outputs": [
    {
     "name": "stdout",
     "output_type": "stream",
     "text": [
      "The length of the result is : 19551\n",
      "{'title': 'Speech Recognition.', 'year': 2006}\n",
      "{'title': 'Dialogue Systems Go Multimodal: The SmartKom Experience.', 'year': 2006}\n",
      "{'title': 'SmartKom-Public.', 'year': 2006}\n",
      "{'title': '3D Simulation: the Key to A.I.', 'year': 2007}\n",
      "{'title': 'Discourse Modeling.', 'year': 2006}\n"
     ]
    }
   ],
   "source": [
    "result = list(db.publis.find(\n",
    "    { \"year\": { \"$gte\": 2005, \"$lte\": 2007 } },\n",
    "    { \"_id\": 0, \"title\": 1, \"year\": 1 }\n",
    "))\n",
    "print(\"The length of the result is : \" + str(len(result)))\n",
    "for i in result[:5] : \n",
    "    print(i)"
   ]
  },
  {
   "cell_type": "markdown",
   "metadata": {},
   "source": [
    "### Donner le nombre des publications dont le titre contient « Ontology » \n"
   ]
  },
  {
   "cell_type": "code",
   "execution_count": 17,
   "metadata": {},
   "outputs": [
    {
     "name": "stdout",
     "output_type": "stream",
     "text": [
      "The number of publications with 'Ontology' in the title is 731.\n"
     ]
    }
   ],
   "source": [
    "count = db.publis.count_documents(\n",
    "    { \"title\": { \"$regex\": \"Ontology\", \"$options\": \"i\" } }\n",
    ")\n",
    "print(f\"The number of publications with 'Ontology' in the title is {count}.\")"
   ]
  },
  {
   "cell_type": "markdown",
   "metadata": {},
   "source": [
    "### Donner le titre des publications publiées par l’auteur «Mimoun Malki »\n",
    "\n"
   ]
  },
  {
   "cell_type": "code",
   "execution_count": 35,
   "metadata": {},
   "outputs": [
    {
     "name": "stdout",
     "output_type": "stream",
     "text": [
      "The length of the result is : 9\n",
      "{'title': 'Existential Dependency Driven Approach for Extracting Views from Domain Ontology.'}\n",
      "{'title': 'Automated Migration of Data-Intensive Web Pages into Ontology-Based Semantic Web: A Reverse Engineering Approach.'}\n",
      "{'title': 'WordNet based Cross-Language Text Categorization.'}\n",
      "{'title': 'Adapting WordNet to the Medical Domain using Lexicosyntactic Patterns in the Ohsumed Corpus.'}\n",
      "{'title': 'Towards a multi-representation ontology-based information systems mediation.'}\n"
     ]
    }
   ],
   "source": [
    "result = list(db.publis.find(\n",
    "    { \"authors\": \"Mimoun Malki\" },\n",
    "    { \"_id\": 0, \"title\": 1 }\n",
    "))\n",
    "print(\"The length of the result is : \" + str(len(result)))\n",
    "for i in result[:5]:\n",
    "    print(i)"
   ]
  },
  {
   "cell_type": "markdown",
   "metadata": {},
   "source": [
    "### Donner le titre des publications dont  «Mimoun Malki » est premier auteur"
   ]
  },
  {
   "cell_type": "code",
   "execution_count": 34,
   "metadata": {},
   "outputs": [
    {
     "name": "stdout",
     "output_type": "stream",
     "text": [
      "The length of the result is : 1\n",
      "{'title': 'Static and Dynamic Reverse Engineering of Relational Database Applications: A Form-Driven Methodology.'}\n"
     ]
    }
   ],
   "source": [
    "result = list(db.publis.find(\n",
    "    { \"authors.0\": \"Mimoun Malki\" },\n",
    "    { \"_id\": 0, \"title\": 1 }\n",
    "))\n",
    "print(\"The length of the result is : \" + str(len(result)))\n",
    "for i in result[:5]:\n",
    "    print(i)"
   ]
  },
  {
   "cell_type": "markdown",
   "metadata": {},
   "source": [
    "### Liste distincte des auteurs\n",
    "\n"
   ]
  },
  {
   "cell_type": "code",
   "execution_count": 21,
   "metadata": {},
   "outputs": [
    {
     "name": "stdout",
     "output_type": "stream",
     "text": [
      "There are 158758 authors in the collection.\n",
      "??igo Garc?\n",
      "?agatan Taskin\n",
      "?agatay Dikici\n",
      "?aglayan Erdem\n",
      "?agri ?zgenc Etemoglu\n"
     ]
    }
   ],
   "source": [
    "authors = db.publis.distinct(\"authors\")\n",
    "num_authors = len(authors)\n",
    "print(f\"There are {num_authors} authors in the collection.\")\n",
    "for i in range(5):\n",
    "    print(authors[i])"
   ]
  },
  {
   "cell_type": "markdown",
   "metadata": {},
   "source": [
    "### Retourner le titre et l’année des publications  de type article, et trier sur l'année dans le l’ordre décroissant  \n"
   ]
  },
  {
   "cell_type": "code",
   "execution_count": 33,
   "metadata": {},
   "outputs": [
    {
     "name": "stdout",
     "output_type": "stream",
     "text": [
      "The length of the result is : 99991\n",
      "{'title': 'Learning Along with Your Students: Projects from the Graduate Diploma of Computer Education.', 'year': 2014}\n",
      "{'title': 'Introduction of Computers in Primary Schools in Norway - From Experiments to Implementation.', 'year': 2014}\n",
      "{'title': 'The Historical Relationship between Affective Variables and ICT Based Learning and Instruction and Achievement in the Israeli School System.', 'year': 2014}\n",
      "{'title': 'The Hopes and Realities of the Computer as a School Administration and School Management Tool.', 'year': 2014}\n",
      "{'title': 'Predicting the Future of Computers in Schools - A Reflection Paper?', 'year': 2014}\n"
     ]
    }
   ],
   "source": [
    "result = list(db.publis.find(\n",
    "    { \"type\": \"Article\" },\n",
    "    { \"_id\": 0, \"title\": 1, \"year\": 1 }\n",
    ").sort(\"year\", -1))\n",
    "print(\"The length of the result is : \" + str(len(result)))\n",
    "for i in result[:5]:\n",
    "    print(i)"
   ]
  },
  {
   "cell_type": "markdown",
   "metadata": {},
   "source": [
    "### Donner le nombre publications par type\n",
    "\n"
   ]
  },
  {
   "cell_type": "code",
   "execution_count": 32,
   "metadata": {},
   "outputs": [
    {
     "name": "stdout",
     "output_type": "stream",
     "text": [
      "The length of the result is : 3\n",
      "{'_id': 'Phd', 'count': 6950}\n",
      "{'_id': 'Article', 'count': 99991}\n",
      "{'_id': 'Book', 'count': 11074}\n"
     ]
    }
   ],
   "source": [
    "result = list(db.publis.aggregate([\n",
    "    { \"$group\": { \"_id\": \"$type\", \"count\": { \"$sum\": 1 } } }\n",
    "]))\n",
    "print(\"The length of the result is : \" + str(len(result)))\n",
    "for i in result:\n",
    "    print(i)"
   ]
  },
  {
   "cell_type": "markdown",
   "metadata": {},
   "source": [
    "### Pour chaque auteur le nombre des publications. Trier par ordre décroissant\n",
    "\n",
    "\n"
   ]
  },
  {
   "cell_type": "code",
   "execution_count": 31,
   "metadata": {},
   "outputs": [
    {
     "name": "stdout",
     "output_type": "stream",
     "text": [
      "The length of the result is : 158758\n",
      "{'_id': 'Georgios B. Giannakis', 'count': 95}\n",
      "{'_id': 'Alberto L. Sangiovanni-Vincentelli', 'count': 91}\n",
      "{'_id': 'Oscar Castillo', 'count': 87}\n",
      "{'_id': 'Hermann Ney', 'count': 82}\n",
      "{'_id': 'Gert-Jan de Vreede', 'count': 82}\n"
     ]
    }
   ],
   "source": [
    "result = list(db.publis.aggregate([\n",
    "    { \"$unwind\": \"$authors\" },\n",
    "    { \"$group\": { \"_id\": \"$authors\", \"count\": { \"$sum\": 1 } } },\n",
    "    { \"$sort\": { \"count\": -1 } }\n",
    "]))\n",
    "print(\"The length of the result is : \" + str(len(result)))\n",
    "for i in result[:5]:\n",
    "    print(i)"
   ]
  },
  {
   "cell_type": "markdown",
   "metadata": {},
   "source": [
    "## le nombre de pages moyen par type"
   ]
  },
  {
   "cell_type": "code",
   "execution_count": 30,
   "metadata": {},
   "outputs": [
    {
     "name": "stdout",
     "output_type": "stream",
     "text": [
      "The length of the result is : 3\n",
      "{'_id': 'Article', 'avgPages': 3.58381847049484}\n",
      "{'_id': 'Book', 'avgPages': 267.131973605279}\n",
      "{'_id': 'Phd', 'avgPages': 195.12232415902142}\n"
     ]
    }
   ],
   "source": [
    "result = list(db.publis.aggregate([\n",
    "    { \n",
    "        \"$addFields\": { \n",
    "            \"numPages\": { \"$subtract\": [\"$pages.end\", \"$pages.start\"] } \n",
    "        } \n",
    "    },\n",
    "    { \n",
    "        \"$group\": { \n",
    "            \"_id\": \"$type\", \n",
    "            \"avgPages\": { \"$avg\": \"$numPages\" } \n",
    "        } \n",
    "    }\n",
    "]))\n",
    "print(\"The length of the result is : \" + str(len(result)))\n",
    "for i in result:\n",
    "    print(i)"
   ]
  },
  {
   "cell_type": "code",
   "execution_count": null,
   "metadata": {},
   "outputs": [],
   "source": []
  }
 ],
 "metadata": {
  "kernelspec": {
   "display_name": "Python 3",
   "language": "python",
   "name": "python3"
  },
  "language_info": {
   "codemirror_mode": {
    "name": "ipython",
    "version": 3
   },
   "file_extension": ".py",
   "mimetype": "text/x-python",
   "name": "python",
   "nbconvert_exporter": "python",
   "pygments_lexer": "ipython3",
   "version": "3.12.3"
  }
 },
 "nbformat": 4,
 "nbformat_minor": 2
}
